{
 "cells": [
  {
   "cell_type": "code",
   "execution_count": 7,
   "id": "02677d87-12e2-47c6-b220-20153d252f34",
   "metadata": {},
   "outputs": [],
   "source": [
    "#import necessary libraries\n",
    "import pandas as pd\n",
    "from sklearn.preprocessing import StandardScaler\n",
    "from sklearn.metrics.pairwise import cosine_similarity"
   ]
  },
  {
   "cell_type": "code",
   "execution_count": 9,
   "id": "d06cc603-f279-4732-9e68-257b4b28bc09",
   "metadata": {},
   "outputs": [],
   "source": [
    "#load datasets\n",
    "\n",
    "customers = pd.read_csv('Customers.csv')\n",
    "products = pd.read_csv('Products.csv')\n",
    "transactions = pd.read_csv('Transactions.csv')"
   ]
  },
  {
   "cell_type": "code",
   "execution_count": 13,
   "id": "84c18803-075d-4e47-b4a4-338fa6e41883",
   "metadata": {},
   "outputs": [
    {
     "name": "stdout",
     "output_type": "stream",
     "text": [
      "  CustomerID        CustomerName         Region  SignupDate\n",
      "0      C0001    Lawrence Carroll  South America  2022-07-10\n",
      "1      C0002      Elizabeth Lutz           Asia  2022-02-13\n",
      "2      C0003      Michael Rivera  South America  2024-03-07\n",
      "3      C0004  Kathleen Rodriguez  South America  2022-10-09\n",
      "4      C0005         Laura Weber           Asia  2022-08-15\n",
      "\n",
      "\n",
      "  ProductID              ProductName     Category   Price\n",
      "0      P001     ActiveWear Biography        Books  169.30\n",
      "1      P002    ActiveWear Smartwatch  Electronics  346.30\n",
      "2      P003  ComfortLiving Biography        Books   44.12\n",
      "3      P004            BookWorld Rug   Home Decor   95.69\n",
      "4      P005          TechPro T-Shirt     Clothing  429.31\n",
      "\n",
      "\n",
      "  TransactionID CustomerID ProductID      TransactionDate  Quantity  \\\n",
      "0        T00001      C0199      P067  2024-08-25 12:38:23         1   \n",
      "1        T00112      C0146      P067  2024-05-27 22:23:54         1   \n",
      "2        T00166      C0127      P067  2024-04-25 07:38:55         1   \n",
      "3        T00272      C0087      P067  2024-03-26 22:55:37         2   \n",
      "4        T00363      C0070      P067  2024-03-21 15:10:10         3   \n",
      "\n",
      "   TotalValue   Price  \n",
      "0      300.68  300.68  \n",
      "1      300.68  300.68  \n",
      "2      300.68  300.68  \n",
      "3      601.36  300.68  \n",
      "4      902.04  300.68  \n"
     ]
    }
   ],
   "source": [
    "#analyze data\n",
    "\n",
    "print(customers.head())\n",
    "print(\"\\n\")\n",
    "print(products.head())\n",
    "print(\"\\n\")\n",
    "print(transactions.head())\n"
   ]
  },
  {
   "cell_type": "code",
   "execution_count": 15,
   "id": "059f1078-93f2-402b-b90d-78da09cd35dc",
   "metadata": {},
   "outputs": [
    {
     "name": "stdout",
     "output_type": "stream",
     "text": [
      "CustomerID      0\n",
      "CustomerName    0\n",
      "Region          0\n",
      "SignupDate      0\n",
      "dtype: int64\n",
      "ProductID      0\n",
      "ProductName    0\n",
      "Category       0\n",
      "Price          0\n",
      "dtype: int64\n",
      "TransactionID      0\n",
      "CustomerID         0\n",
      "ProductID          0\n",
      "TransactionDate    0\n",
      "Quantity           0\n",
      "TotalValue         0\n",
      "Price              0\n",
      "dtype: int64\n"
     ]
    }
   ],
   "source": [
    "#check for missing values\n",
    "\n",
    "print(customers.isnull().sum())\n",
    "print(products.isnull().sum())\n",
    "print(transactions.isnull().sum())"
   ]
  },
  {
   "cell_type": "code",
   "execution_count": 17,
   "id": "f63511b0-2594-4a17-97e6-5ad6871788af",
   "metadata": {},
   "outputs": [],
   "source": [
    "#prepare data\n",
    "\n",
    "merged = transactions.merge(customers, on='CustomerID').merge(products, on='ProductID')\n"
   ]
  },
  {
   "cell_type": "code",
   "execution_count": 33,
   "id": "819ab196-fe09-4db2-8ebc-913fd0ebf88c",
   "metadata": {},
   "outputs": [],
   "source": [
    "# Feature Engineering\n",
    "customer_features = merged.groupby('CustomerID').agg({\n",
    "    'TotalValue': 'sum',\n",
    "    'Quantity': 'sum',\n",
    "    'ProductID': lambda x: x.nunique(),\n",
    "    'Region': 'first'\n",
    "}).reset_index()\n",
    "\n",
    "customer_features.rename(columns={'ProductID': 'UniqueProducts'}, inplace=True)\n",
    "\n",
    "#convert categorical data into numerical data\n",
    "customer_features = pd.get_dummies(customer_features, columns=['Region'])\n"
   ]
  },
  {
   "cell_type": "code",
   "execution_count": 37,
   "id": "5b4ae8d5-a2f1-48f4-877b-08f56d8ace75",
   "metadata": {},
   "outputs": [],
   "source": [
    "# Normalize Data\n",
    "scaler = StandardScaler()\n",
    "features_scaled = scaler.fit_transform(customer_features.drop(columns=['CustomerID']))"
   ]
  },
  {
   "cell_type": "code",
   "execution_count": 41,
   "id": "d8febaf5-102a-457a-ab4c-af025f9181fa",
   "metadata": {},
   "outputs": [],
   "source": [
    "# Compute cosine Similarity\n",
    "similarity = cosine_similarity(features_scaled)"
   ]
  },
  {
   "cell_type": "code",
   "execution_count": 43,
   "id": "64498d1c-aa1b-4890-99b2-d28aedddb108",
   "metadata": {},
   "outputs": [],
   "source": [
    "# Recommend Lookalikes\n",
    "def lookalikes(index, top_n=3):\n",
    "    scores = list(enumerate(similarity[index]))\n",
    "    scores = sorted(scores, key=lambda x: x[1], reverse=True)[1:top_n+1]\n",
    "    return [(customer_features.iloc[i]['CustomerID'], score) for i, score in scores]\n",
    "    "
   ]
  },
  {
   "cell_type": "code",
   "execution_count": 47,
   "id": "ffdefaec-c3b7-47da-b0d9-09405d4f0b19",
   "metadata": {},
   "outputs": [],
   "source": [
    "# Generate Recommendations\n",
    "results = []\n",
    "for idx in range(len(customer_features)):\n",
    "    temp = lookalikes(idx)\n",
    "    results.append({\n",
    "        'CustomerID': customer_features.iloc[idx]['CustomerID'],\n",
    "        'LookalikeID1': temp[0][0], 'Score1': temp[0][1],\n",
    "        'LookalikeID2': temp[1][0], 'Score2': temp[1][1],\n",
    "        'LookalikeID3': temp[2][0], 'Score3': temp[2][1],\n",
    "    })"
   ]
  },
  {
   "cell_type": "code",
   "execution_count": 53,
   "id": "135bd385-f58c-4ab6-be6c-7e46bb5f33cf",
   "metadata": {},
   "outputs": [],
   "source": [
    "# Save to CSV\n",
    "lookalike_df = pd.DataFrame(results)\n",
    "lookalike_df.to_csv('Lookalike.csv', index=False)"
   ]
  },
  {
   "cell_type": "code",
   "execution_count": 55,
   "id": "500021f7-9df3-4abf-97de-fcc22faa55e7",
   "metadata": {},
   "outputs": [
    {
     "name": "stdout",
     "output_type": "stream",
     "text": [
      "  CustomerID LookalikeID1    Score1 LookalikeID2    Score2 LookalikeID3  \\\n",
      "0      C0001        C0107  0.996725        C0137  0.996063        C0191   \n",
      "1      C0002        C0142  0.994534        C0177  0.986784        C0178   \n",
      "2      C0003        C0133  0.966381        C0190  0.966171        C0174   \n",
      "3      C0004        C0113  0.988351        C0102  0.972712        C0104   \n",
      "4      C0005        C0186  0.998580        C0159  0.998260        C0007   \n",
      "\n",
      "     Score3  \n",
      "0  0.990618  \n",
      "1  0.978913  \n",
      "2  0.952801  \n",
      "3  0.972457  \n",
      "4  0.992426  \n"
     ]
    }
   ],
   "source": [
    "output = pd.read_csv('Lookalike.csv')\n",
    "print(output.head())"
   ]
  }
 ],
 "metadata": {
  "kernelspec": {
   "display_name": "Python 3 (ipykernel)",
   "language": "python",
   "name": "python3"
  },
  "language_info": {
   "codemirror_mode": {
    "name": "ipython",
    "version": 3
   },
   "file_extension": ".py",
   "mimetype": "text/x-python",
   "name": "python",
   "nbconvert_exporter": "python",
   "pygments_lexer": "ipython3",
   "version": "3.11.7"
  }
 },
 "nbformat": 4,
 "nbformat_minor": 5
}
